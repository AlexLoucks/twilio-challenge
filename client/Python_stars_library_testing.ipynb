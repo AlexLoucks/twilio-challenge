{
 "cells": [
  {
   "cell_type": "code",
   "execution_count": 1,
   "metadata": {},
   "outputs": [],
   "source": [
    "from stars import StarsClient\n"
   ]
  },
  {
   "cell_type": "markdown",
   "metadata": {},
   "source": [
    "### Declare a client object"
   ]
  },
  {
   "cell_type": "code",
   "execution_count": 2,
   "metadata": {},
   "outputs": [],
   "source": [
    "client = StarsClient()"
   ]
  },
  {
   "cell_type": "markdown",
   "metadata": {},
   "source": [
    "## Testing Scenarios:"
   ]
  },
  {
   "cell_type": "markdown",
   "metadata": {},
   "source": [
    "### Test succesfull API call via client"
   ]
  },
  {
   "cell_type": "code",
   "execution_count": 3,
   "metadata": {},
   "outputs": [
    {
     "name": "stdout",
     "output_type": "stream",
     "text": [
      "{'starsCount': {'AlexLoucks/test-repo-1': 0, 'AlexLoucks/test-repo-2': 1}, 'totalStars': 1}\n"
     ]
    }
   ],
   "source": [
    "repoList = [\"AlexLoucks/test-repo-2\", \"AlexLoucks/test-repo-1\"]\n",
    "response = client.submit_API_call(repoList)\n",
    "print(response)"
   ]
  },
  {
   "cell_type": "markdown",
   "metadata": {},
   "source": [
    "### Test API call with nonexistent repo via client"
   ]
  },
  {
   "cell_type": "code",
   "execution_count": 4,
   "metadata": {},
   "outputs": [
    {
     "name": "stdout",
     "output_type": "stream",
     "text": [
      "{'Error calling the stars API for the given repo list, status': 500, 'body': {'Internal Server Error': \"Error calling the github API for repo: AlexLoucks/test-repo-6, Github call status: 404, body: {'message': 'Not Found', 'documentation_url': 'https://docs.github.com/rest/reference/repos#get-a-repository'}\"}}\n"
     ]
    }
   ],
   "source": [
    "repoList = [\"AlexLoucks/test-repo-6\", \"AlexLoucks/test-repo-7\"]\n",
    "response = client.submit_API_call(repoList)\n",
    "print(response)"
   ]
  },
  {
   "cell_type": "markdown",
   "metadata": {},
   "source": [
    "### Test API call with invalid repo via client"
   ]
  },
  {
   "cell_type": "code",
   "execution_count": 5,
   "metadata": {},
   "outputs": [
    {
     "name": "stdout",
     "output_type": "stream",
     "text": [
      "{'Error calling the stars API for the given repo list, status': 400, 'body': {'Input Error': {'repositoryList': ['The repo named AlexLoucks/ does not match the expected pattern ogranziation/repository from chars [A-Za-z0-9_.-]']}}}\n"
     ]
    }
   ],
   "source": [
    "repoList = [\"AlexLoucks/\", \"AlexLoucks/test-repo-1\"]\n",
    "response = client.submit_API_call(repoList)\n",
    "print(response)"
   ]
  },
  {
   "cell_type": "markdown",
   "metadata": {},
   "source": [
    "### Test API call with missing repoList"
   ]
  },
  {
   "cell_type": "code",
   "execution_count": 6,
   "metadata": {},
   "outputs": [
    {
     "name": "stdout",
     "output_type": "stream",
     "text": [
      "Repo list cannot be null. Please add a list of repos to your command.\n"
     ]
    }
   ],
   "source": [
    "response = client.submit_API_call(None)\n",
    "print(response)\n"
   ]
  },
  {
   "cell_type": "markdown",
   "metadata": {},
   "source": [
    "### Test API call with empty repoList"
   ]
  },
  {
   "cell_type": "code",
   "execution_count": 7,
   "metadata": {},
   "outputs": [
    {
     "name": "stdout",
     "output_type": "stream",
     "text": [
      "{'Error calling the stars API for the given repo list, status': 400, 'body': {'Input Error': {'repositoryList': ['Repository list must have at least one item']}}}\n"
     ]
    }
   ],
   "source": [
    "repoList = []\n",
    "response = client.submit_API_call(repoList)\n",
    "print(response)"
   ]
  },
  {
   "cell_type": "markdown",
   "metadata": {},
   "source": [
    "### Test API call with private repo in list"
   ]
  },
  {
   "cell_type": "code",
   "execution_count": 8,
   "metadata": {},
   "outputs": [
    {
     "name": "stdout",
     "output_type": "stream",
     "text": [
      "{'Error calling the stars API for the given repo list, status': 500, 'body': {'Internal Server Error': \"Error calling the github API for repo: AlexLoucks/test-repo-4, Github call status: 404, body: {'message': 'Not Found', 'documentation_url': 'https://docs.github.com/rest/reference/repos#get-a-repository'}\"}}\n"
     ]
    }
   ],
   "source": [
    "repoList = [\"AlexLoucks/test-repo-1\", \"AlexLoucks/test-repo-4\"]\n",
    "response = client.submit_API_call(repoList)\n",
    "print(response)"
   ]
  }
 ],
 "metadata": {
  "kernelspec": {
   "display_name": "Python 3",
   "language": "python",
   "name": "python3"
  },
  "language_info": {
   "codemirror_mode": {
    "name": "ipython",
    "version": 3
   },
   "file_extension": ".py",
   "mimetype": "text/x-python",
   "name": "python",
   "nbconvert_exporter": "python",
   "pygments_lexer": "ipython3",
   "version": "3.8.2"
  }
 },
 "nbformat": 4,
 "nbformat_minor": 4
}
